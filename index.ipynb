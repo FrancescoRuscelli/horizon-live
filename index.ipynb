{
 "cells": [
  {
   "cell_type": "markdown",
   "id": "f21499a5",
   "metadata": {},
   "source": [
    "# Horizon 1.0.0\n",
    "\n",
    "Welcome to this live introduction to [**Horizon**](https://github.com/ADVRHumanoids/horizon)!\n",
    "\n",
    "Horizon is a framework for trajectory optimization and optimal control tailored to robotic systems.\n",
    "It is particulary useful to describe and solve parametric nolinear problems for trajectory planning, both off-line and in a MPC fashion.\n",
    "\n",
    "Horizon is based on [**CasADi**](https://web.casadi.org/), a powerful tool for nonlinear optimization and algorithmic differentiation.\n",
    "\n",
    "You can explore the [**documentation**](https://advrhumanoids.github.io/horizon) to learn more about this framework."
   ]
  },
  {
   "cell_type": "markdown",
   "id": "5ada19bc",
   "metadata": {},
   "source": [
    "This interactive session will guide you through some examples demonstrating the capabilities of the framework.\n",
    "If you are familiar with the JupyterLab environment, feel free to skip this section.\n",
    "\n",
    "Open from the Launcher tab a new Terminal.\n",
    "\n",
    "![launcher](img/detail_launcher.png)\n",
    "![terminal](img/detail_terminal.png)\n",
    "\n",
    "In the terminal, launch the example, for instance spot jumping, with the following command:"
   ]
  },
  {
   "cell_type": "code",
   "execution_count": 1,
   "id": "edf61752",
   "metadata": {},
   "outputs": [
    {
     "ename": "SyntaxError",
     "evalue": "invalid syntax (3937019300.py, line 1)",
     "output_type": "error",
     "traceback": [
      "\u001b[0;36m  File \u001b[0;32m\"/tmp/ipykernel_38660/3937019300.py\"\u001b[0;36m, line \u001b[0;32m1\u001b[0m\n\u001b[0;31m    python3 horizon.examples.cart_pole --r\u001b[0m\n\u001b[0m            ^\u001b[0m\n\u001b[0;31mSyntaxError\u001b[0m\u001b[0;31m:\u001b[0m invalid syntax\n"
     ]
    }
   ],
   "source": [
    "\n",
    "python3 horizon.examples.cart_pole --r"
   ]
  },
  {
   "cell_type": "markdown",
   "id": "093d5e32",
   "metadata": {},
   "source": [
    "\n",
    "To visualize the robot, it is enough to open the zethus visualizer (rviz), and select the robot description.\n",
    "\n",
    "![rviz](img/detail_zethus.png)\n"
   ]
  }
 ],
 "metadata": {
  "kernelspec": {
   "display_name": "Python 3 (ipykernel)",
   "language": "python",
   "name": "python3"
  },
  "language_info": {
   "codemirror_mode": {
    "name": "ipython",
    "version": 3
   },
   "file_extension": ".py",
   "mimetype": "text/x-python",
   "name": "python",
   "nbconvert_exporter": "python",
   "pygments_lexer": "ipython3",
   "version": "3.8.10"
  }
 },
 "nbformat": 4,
 "nbformat_minor": 5
}

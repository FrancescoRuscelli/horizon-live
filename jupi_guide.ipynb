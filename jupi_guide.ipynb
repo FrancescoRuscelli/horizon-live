{
 "cells": [
  {
   "cell_type": "markdown",
   "metadata": {},
   "source": [
    "From the Launcher tab, open a new Terminal:\n",
    "\n",
    "![launcher](img/launcher.png)\n",
    "![terminal](img/terminal.png)"
   ]
  },
  {
   "cell_type": "markdown",
   "metadata": {},
   "source": [
    "open Zethus (RViz), from the ROS menu.\n",
    "\n",
    "![rviz](img/rviz.png)\n",
    "\n",
    "to add the robot model, add a visualization:\n",
    "\n",
    "![visualization](img/visualization.png)\n",
    "\n",
    "if a robot description is loaded, select it\n",
    "\n",
    "![robot-description](img/robot_description.png)"
   ]
  }
 ],
 "metadata": {
  "interpreter": {
   "hash": "916dbcbb3f70747c44a77c7bcd40155683ae19c65e1c03b4aa3499c5328201f1"
  },
  "kernelspec": {
   "display_name": "Python 3.8.10 64-bit",
   "language": "python",
   "name": "python3"
  },
  "language_info": {
   "name": "python",
   "version": "3.8.10"
  },
  "orig_nbformat": 4
 },
 "nbformat": 4,
 "nbformat_minor": 2
}

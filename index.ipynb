{
 "cells": [
  {
   "cell_type": "markdown",
   "id": "f21499a5",
   "metadata": {},
   "source": [
    "# Horizon 1.0.0\n",
    "\n",
    "Welcome to this humble introduction to [**Horizon**](https://github.com/FrancescoRuscelli/horizon_gui)!\n",
    "\n",
    "Horizon is a framework for trajectory optimization and optimal control with a special focus on robotics systems.\n",
    "It is particulary useful to describe and solve parametric nolinear problems for trajectory planning, both off-line and in a MPC fashion.\n",
    "\n",
    "Horizon is based on [**CasADi**](https://web.casadi.org/), a powerful tool for nonlinear optimization and algorithmic differentiation.\n",
    "\n",
    "---\n",
    "\n",
    "You can find many examples in the Horizon repo and a wonderful [**documentation**](https://francescoruscelli.github.io/horizon_gui), but if what you desire is a simple, interactive, FUN introduction to this framework, keep reading!\n",
    "\n",
    "\n",
    "Let's start by importing the module horizon.\n",
    "In particular, we are intrested in the submodule Problem, which allows the creation of our optimization problem.\n",
    "While we are at it, we're importing some other useful packages."
   ]
  },
  {
   "cell_type": "code",
   "execution_count": null,
   "id": "afd11cd0",
   "metadata": {},
   "outputs": [],
   "source": [
    "from horizon.problem import Problem\n",
    "import horizon.utils.transcription_methods as transmet\n",
    "import horizon.utils.plotter as plotter\n",
    "import casadi as cs\n",
    "import numpy as np\n",
    "import matplotlib.pyplot as plt"
   ]
  },
  {
   "cell_type": "markdown",
   "id": "b2a983d5",
   "metadata": {},
   "source": [
    "Great! Now let's define a number of shooting nodes.\n",
    "\n",
    "---\n",
    "## Intro\n",
    "\n",
    "Oh wait.. I'll give you a small introduction to what this is all about.\n",
    "\n",
    "Say you need to plan a given trajectory for your *dynamical system*. This system is described by one or many differential equation, which determines its evolution in time, depending on its *state* and *inputs*.\\\n",
    "Of course you don't want any trajectory, but one that satisfies some desired *constraints* and minimizes a given *performance index*. In addition to this, you may want to add some *boundaries* to your variables, cause that motor of yours cannot exert infinite torque right?\\\n",
    "Finally, you want your problem *parametric*: for instance, you want to parametrize your reference trajectory, so that it can be changed to suit your requirements.\n",
    "\n",
    "In optimal control literature, there are many strategies that can be employed to find a solution. Sadly, I don't know them. Also I can't teach (especially you, you're too old).\n",
    "Horizon follows the philosophy behind the direct methods: reducing your optimal control problem to a **nonlinear program (NLP)**.\n",
    "\n",
    "To solve a NLP, there are two viable ways that are supported by the Horizon framework:\n",
    "\n",
    "- Direct collocation\n",
    "- Multiple shooting\n",
    "\n",
    "Both these methods, before optimizing, discretize the NLP into a finite dimensional problem: in other words, the horizon of the planning is divided into a given number of nodes. Of course, this means that your optimal input will get discretized as well. If you are ok with that, let's get a little more technical.\n",
    "\n",
    "By the way, I'm not goint to explain the internal mechanics of these direct methods, because, hey, Horizon is taking care of it for you!\n",
    "\n",
    "---"
   ]
  },
  {
   "cell_type": "markdown",
   "id": "d1cbb3ab",
   "metadata": {},
   "source": [
    "## Problem definition\n",
    "\n",
    "Suppose we have a (unit) mass on a surface, and we need it to move to a given point by exerting a force on it. In doing so, we want to minimize the force, and we want to get there in a given time.\\\n",
    "However, an obstacle is between the initial position of the mass and our goal. \n",
    "\n",
    "How to do?\n",
    "\n",
    "First thing to do is discretizing. Then, we can set up the problem. "
   ]
  },
  {
   "cell_type": "code",
   "execution_count": null,
   "id": "c84e42d0",
   "metadata": {},
   "outputs": [],
   "source": [
    "T = 5\n",
    "dt = 0.1\n",
    "N = int(T/dt)\n",
    "\n",
    "prb = Problem(N)"
   ]
  },
  {
   "cell_type": "markdown",
   "id": "a3923f5d",
   "metadata": {},
   "source": [
    "It's time to define the variables of our system.\\\n",
    "As you can probably guess, the relevant quantities are divided into:\n",
    "- state variables\n",
    "- input variables"
   ]
  },
  {
   "cell_type": "code",
   "execution_count": null,
   "id": "09a53a6b",
   "metadata": {},
   "outputs": [],
   "source": [
    "p = prb.createStateVariable('pos', dim=2) # position of the mass in the x/y plane\n",
    "v = prb.createStateVariable('vel', dim=2) # velocity of the mass\n",
    "F = prb.createInputVariable('force', dim=2) # force exerted to the mass"
   ]
  },
  {
   "cell_type": "markdown",
   "id": "352e85b8",
   "metadata": {},
   "source": [
    "As you can tell, you only receive an handle to one single variable.\\\n",
    "But we said that the system is discretized, and for each node exists a decision variable to be optimized... where are all the variable of the problem?\\\n",
    "Don't worry. It's burdensome to manage all of them, so horizon does it for you. If you really want to see them, try the following code:"
   ]
  },
  {
   "cell_type": "code",
   "execution_count": null,
   "id": "7840057f",
   "metadata": {},
   "outputs": [],
   "source": [
    "p.getImpl()"
   ]
  },
  {
   "cell_type": "markdown",
   "id": "c3b4fabe",
   "metadata": {},
   "source": [
    "In short, each 'abstract' value you are dealing with holds its own decision variables at each node, that are going to be used by the solver.\n",
    "\n",
    "--\n",
    "\n",
    "The horizon problem stores the state variable and the input variable separately.\\ It is worth mentioning that the state variable are defined on **all** the *N* nodes, while the input variables transition from one state to the other, hence they are defined on *N-1* nodes.\n",
    "\n",
    "One can easily retrieve the whole state of the system, as well as the input."
   ]
  },
  {
   "cell_type": "code",
   "execution_count": null,
   "id": "b6bc76bf",
   "metadata": {},
   "outputs": [],
   "source": [
    "sys_state = prb.getState()\n",
    "sys_input = prb.getInput()"
   ]
  },
  {
   "cell_type": "markdown",
   "id": "aad052fd",
   "metadata": {},
   "source": [
    "Now let's inject the dynamics in the problem. After all, horizon need to know how the system evolves in time. To do so, it asks for a vector that specifies the evolution of the state variables.\n",
    "In this specific scenario, the state $x$ is and its derivative $\\dot{x}$ are:\n",
    "\n",
    "\\begin{equation}\n",
    "x = \\begin{bmatrix} p \\\\ v \\end{bmatrix}\n",
    "\\qquad\n",
    "\\dot{x} = \\begin{bmatrix} v \\\\ F \\end{bmatrix} \n",
    "\\end{equation}\n",
    "\n",
    "If you're wondering where is the mass, it is unitary. So:"
   ]
  },
  {
   "cell_type": "code",
   "execution_count": null,
   "id": "1f10d725",
   "metadata": {},
   "outputs": [],
   "source": [
    "xdot = cs.vertcat(v, F)\n",
    "prb.setDynamics(xdot)"
   ]
  },
  {
   "cell_type": "markdown",
   "id": "c671ed31",
   "metadata": {},
   "source": [
    "As mentioned below, horizon provides two methods to solve the problem, the *multiple shooting* and the *direct collocation*. I won't explain in detail how they work, you can search it up, but hey... you don't need to! Just tell horizon which method you want to use, and it will do its magic:"
   ]
  },
  {
   "cell_type": "code",
   "execution_count": null,
   "id": "97d73a96",
   "metadata": {},
   "outputs": [],
   "source": [
    "th = transmet.TranscriptionsHandler(prb, dt)\n",
    "th.setMultipleShooting()\n",
    "# or, if you want to try another direct method:\n",
    "#th.setDirectCollocation(3) # 3 is the order of the polynomial that approximate the dynamics"
   ]
  },
  {
   "cell_type": "markdown",
   "id": "6e3e7680",
   "metadata": {},
   "source": [
    "Nevermind, a brief explanation can't hurt.\n",
    "Integrating the system dynamics given as initial condition the state at each node and a constant input, we get a discontinuous trajectory, as shown in the following picture.\n",
    "\n",
    "![discontinuous trajectory](img/multishoot_1.png)\n",
    "\n",
    "The multiple shooting method simply enforces continuity of the system trajectory between each node. In other words, the final state obtained by intregrating the system starting from the state at a node $k$ (with a constant input) must be equal to the state variable at node $k+1$.\\\n",
    "If the system satisfy this condition, we will get something on these lines:\n",
    "![continuous trajectory](img/multishoot_2.png)\n",
    "\n",
    "---\n",
    "Let's continue. What we need now is to set some bounds. To do so, you just need to grab your variables..."
   ]
  },
  {
   "cell_type": "code",
   "execution_count": null,
   "id": "12115fee",
   "metadata": {},
   "outputs": [],
   "source": [
    "# set initial state (rest in zero)\n",
    "p.setBounds(lb=[0, 0], ub=[0, 0], nodes=0)\n",
    "v.setBounds(lb=[0, 0], ub=[0, 0], nodes=0)\n",
    "\n",
    "# final constraint\n",
    "p.setBounds(lb=[1, 1], ub=[1, 1], nodes=N)\n",
    "v.setBounds(lb=[0, 0], ub=[0, 0], nodes=N)"
   ]
  },
  {
   "cell_type": "markdown",
   "id": "4291fdeb",
   "metadata": {},
   "source": [
    "As you can see, these lines bound position and velocity at the very first node (nodes=0) and the last node (nodes=N).\n",
    "\n",
    "Now let's insert the obstacle. It's going to be exactly where we don't want. In between our starting position and our coveted goal."
   ]
  },
  {
   "cell_type": "code",
   "execution_count": null,
   "id": "3f21e16e",
   "metadata": {},
   "outputs": [],
   "source": [
    "obs_center = np.array([0.5, 0.5])\n",
    "obs_r = 0.4\n",
    "obs = cs.sumsqr(p - obs_center) - obs_r\n",
    "\n",
    "obs_cnsrt = prb.createIntermediateConstraint('obstacle', obs)\n",
    "obs_cnsrt.setUpperBounds(np.inf)"
   ]
  },
  {
   "cell_type": "markdown",
   "id": "34fa9b26",
   "metadata": {},
   "source": [
    "Still following? Hang in there, we're almost done!\\\n",
    "For simplicity, the obstacle is a convex shape also known as circle. The mass cannot enter the obstacle, hence the lower bound is zero, while the upper bound is inf: everywhere else the mass can navigate freely.\n",
    "\n",
    "> *Hint*: if not specified, the bounds of a constraints are *zero*\n",
    "\n",
    "The last desire we bear in our heart is minimizing the force exerted.\n",
    "To do so, we need to a cost function:"
   ]
  },
  {
   "cell_type": "code",
   "execution_count": null,
   "id": "f67f28c5",
   "metadata": {},
   "outputs": [],
   "source": [
    "prb.createIntermediateCost('cost', cs.sumsqr(F))"
   ]
  },
  {
   "cell_type": "markdown",
   "id": "6c6fddcc",
   "metadata": {},
   "source": [
    "> *Hint*: *createIntermediateConstraint/Cost* are just shortcuts to define a constraint/cost function along the \"intermediate\" nodes, i.e. every node but the last one. Similarly, *createFinalConstraint/Cost* set them only at the last node\n",
    "\n",
    "That's it! We are ready to solve the problem!"
   ]
  },
  {
   "cell_type": "code",
   "execution_count": null,
   "id": "9dc6a3fb",
   "metadata": {},
   "outputs": [],
   "source": [
    "prb.createProblem()\n",
    "solution = prb.solveProblem()"
   ]
  },
  {
   "cell_type": "markdown",
   "id": "63e25f88",
   "metadata": {},
   "source": [
    "That's a lot of outputs: it's the default solver spitting out all the relevant information. What is really important, an optimal solution was found!\n",
    "\n",
    "--\n",
    "Which solution tho? Let's plot it."
   ]
  },
  {
   "cell_type": "code",
   "execution_count": null,
   "id": "ca7906bc",
   "metadata": {},
   "outputs": [],
   "source": [
    "hplt = plotter.PlotterHorizon(prb)\n",
    "hplt.plotVariables()\n",
    "hplt.plotFunctions()\n",
    "\n",
    "\n",
    "plt.figure()\n",
    "plt.plot(solution['pos'][0], solution['pos'][1])\n",
    "plt.plot([0, 0], [0, 0], 'bo', markersize=12)\n",
    "plt.plot([1, 1], [1, 1], 'g*', markersize=12)\n",
    "circle = plt.Circle(obs_center, radius=obs_r, fc='r')\n",
    "plt.gca().add_patch(circle)"
   ]
  },
  {
   "cell_type": "markdown",
   "id": "d08a4f6c",
   "metadata": {},
   "source": [
    "Here we are! You can see all the relevant parameters, and, in the last plot, the trajectory of our mass!\n",
    "It's amazing!\n",
    "\n",
    "> *Hint*: the horizon plotter plots automatically all the variables and the functions.\n",
    "\n",
    "Just to give a little bit of context, the blue dot is the starting point, while the green star is the goal. The trajectory of the unit mass is in blue, and as you can see it goes around the red obstacle without touching it.\n",
    "\n",
    "--\n",
    "\n",
    "What if you take out the obstacle constraint? Try it!"
   ]
  }
 ],
 "metadata": {
  "kernelspec": {
   "display_name": "Python 3 (ipykernel)",
   "language": "python",
   "name": "python3"
  },
  "language_info": {
   "codemirror_mode": {
    "name": "ipython",
    "version": 3
   },
   "file_extension": ".py",
   "mimetype": "text/x-python",
   "name": "python",
   "nbconvert_exporter": "python",
   "pygments_lexer": "ipython3",
   "version": "3.8.10"
  }
 },
 "nbformat": 4,
 "nbformat_minor": 5
}

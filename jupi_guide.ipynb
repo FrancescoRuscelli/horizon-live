{
 "cells": [
  {
   "cell_type": "markdown",
   "metadata": {},
   "source": [
    "From the Launcher tab, open a new Terminal:\n",
    "\n",
    "![launcher](img/launcher.png)\n",
    "![terminal](img/terminal.png)"
   ]
  },
  {
   "cell_type": "markdown",
   "metadata": {},
   "source": [
    "open Zethus (RViz), from the ROS menu.\n",
    "\n",
    "![rviz](img/rviz.png)\n",
    "\n",
    "to add the robot model, add a visualization:\n",
    "\n",
    "![visualization](img/visualization.png)\n",
    "\n",
    "if a robot description is loaded, select it\n",
    "\n",
    "![robot-description](img/robot_description.png)"
   ]
  }
 ],
 "metadata": {
  "language_info": {
   "name": "python"
  },
  "orig_nbformat": 4
 },
 "nbformat": 4,
 "nbformat_minor": 2
}

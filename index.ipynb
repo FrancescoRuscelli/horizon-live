{
 "cells": [
  {
   "cell_type": "markdown",
   "id": "f21499a5",
   "metadata": {},
   "source": [
    "# Horizon examples\n",
    "\n",
    "Welcome to this live introduction to [**Horizon**](https://github.com/ADVRHumanoids/horizon)!\n",
    "\n",
    "Horizon is a framework for trajectory optimization and optimal control tailored to robotic systems.\n",
    "It is particulary useful to describe and solve parametric nolinear problems for trajectory planning, both off-line and in a MPC fashion.\n",
    "\n",
    "Horizon is based on [**CasADi**](https://web.casadi.org/), a powerful tool for nonlinear optimization and algorithmic differentiation.\n",
    "\n",
    "You can explore the [**documentation**](https://advrhumanoids.github.io/horizon) to learn more about this framework."
   ]
  },
  {
   "cell_type": "markdown",
   "id": "5ada19bc",
   "metadata": {},
   "source": [
    "## Getting started\n",
    "\n",
    "This session allows to run some examples demonstrating the capabilities of the framework.\n",
    "If you are not familiar with the JupyterLab environment, follow this brief [guide](jupi_guide.ipynb).\n",
    "\n",
    "In a new terminal, just enter the following commands:\n",
    "\n",
    " - **python3 -m horizon.examples.cart_pole --r**\n",
    "\n",
    "where --r activate the replay mode, which allows to visualize the optimized trajectory on the robot (for a complete list of options, type *--help*)  \n",
    "\n",
    "Once the optimal solution is found, the example will automatically replay it on the robot.\n",
    "To visualize it, it is enough to open the zethus visualizer (rviz), and select the robot description."
   ]
  },
  {
   "cell_type": "markdown",
   "id": "76d31674",
   "metadata": {},
   "source": [
    "There are many examples that can be run, involving different robots (spot, quadruped template, roped robot, cart pole...) performing different actions.\n",
    "\n",
    "A few possible commands:\n",
    "\n",
    " - **python3 -m horizon.examples.cart_pole --r --minimize_t**\n",
    " - **python3 -m horizon.examples.spot --r --action leap**\n",
    " - **python3 -m horizon.examples.roped_robot --r --action rappel**"
   ]
  }
 ],
 "metadata": {
  "kernelspec": {
   "display_name": "Python 3 (ipykernel)",
   "language": "python",
   "name": "python3"
  },
  "language_info": {
   "codemirror_mode": {
    "name": "ipython",
    "version": 3
   },
   "file_extension": ".py",
   "mimetype": "text/x-python",
   "name": "python",
   "nbconvert_exporter": "python",
   "pygments_lexer": "ipython3",
   "version": "3.8.10"
  }
 },
 "nbformat": 4,
 "nbformat_minor": 5
}
